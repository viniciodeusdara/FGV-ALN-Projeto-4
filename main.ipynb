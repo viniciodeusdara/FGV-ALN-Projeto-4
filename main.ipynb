{
 "cells": [
  {
   "cell_type": "markdown",
   "id": "1eaa838c",
   "metadata": {},
   "source": [
    "<div style=\"text-align: center\">\n",
    "  <h2>Projeto 4 - Álgebra Linear Numérica</h2>\n",
    "  \n",
    "  <p><strong>Roger Vinícius Pereira Augusto</strong><br>\n",
    "  Matrícula: 241708020</p>\n",
    "\n",
    "  <p><strong>Vinício Vasconcelos Muniz Deusdará</strong><br>\n",
    "  Matrícula: 231708029</p>\n",
    "</div>\n",
    "<hr>"
   ]
  },
  {
   "cell_type": "markdown",
   "id": "cf41f7ea",
   "metadata": {},
   "source": [
    "**Importações necessárias**"
   ]
  },
  {
   "cell_type": "code",
   "execution_count": null,
   "id": "2caa10ba",
   "metadata": {},
   "outputs": [],
   "source": [
    "import matplotlib.pyplot as plt\n",
    "import numpy as np"
   ]
  },
  {
   "cell_type": "markdown",
   "id": "8cf017b3",
   "metadata": {},
   "source": [
    "<hr>"
   ]
  },
  {
   "cell_type": "markdown",
   "id": "8a84f7dd",
   "metadata": {},
   "source": [
    "**Questão 1. Matrizes Gaussianas.** Uma matriz gaussiana tem todas as entradas $A_{ij}$ independentes e distribuídas segundo uma normal padrão, ou seja, $A_{ij} \\sim \\mathcal{N} (0, 1)$"
   ]
  },
  {
   "cell_type": "markdown",
   "id": "e07319bf",
   "metadata": {},
   "source": [
    "a) **Distribuição de normas.** Faça um histograma da norma-$2$ das colunas de uma matriz gaussiana $A$, $ m \\times n $. Use vários valores de $m$, e comente o que você observa."
   ]
  },
  {
   "cell_type": "code",
   "execution_count": null,
   "id": "9ab2d4af",
   "metadata": {},
   "outputs": [],
   "source": []
  },
  {
   "cell_type": "markdown",
   "id": "21323d28",
   "metadata": {},
   "source": [
    "b) **Produtos internos.** Agora, fixe $m = 100$ e faça o histograma do produto interno $ \\left< A_i, A_j \\right>$ entre colunas de uma matriz gaussiana $A$. Exclua os casos $i = j$, e use $n = 100$, $200$, $500$ e $1000$. O que acontece? Qual parece ser a distribuição para $n \\rightarrow \\infty$?"
   ]
  },
  {
   "cell_type": "code",
   "execution_count": null,
   "id": "125bf869",
   "metadata": {},
   "outputs": [],
   "source": []
  },
  {
   "cell_type": "markdown",
   "id": "01ad5834",
   "metadata": {},
   "source": [
    "c) **A distribuição do máximo.** Queremos ver quão “não ortogonal” é a matriz $A$. Para isso, vamos estudar o máximo de $\\dfrac{|\\left<A_i, A_j \\right>|}{\\|A_i\\|\\|A_j\\|}$ entre colunas distintas de uma matriz gaussiana $A$. Para isto, gere $K = 1000$ matrizes gaussianas $A_k$ de ordem $100 \\times 300$, calcule o máximo indicado acima, e faça um histograma dos $K$ valores obtidos."
   ]
  },
  {
   "cell_type": "code",
   "execution_count": null,
   "id": "79e00067",
   "metadata": {},
   "outputs": [],
   "source": []
  },
  {
   "cell_type": "markdown",
   "id": "83bf5a50",
   "metadata": {},
   "source": [
    "d) **Complexidade computacional.** Qual a complexidade de calcular o máximo acima? Qual valor de $K$ você acha que seria bom para ter uma boa estimativa do máximo esperado?"
   ]
  },
  {
   "cell_type": "code",
   "execution_count": null,
   "id": "3fb0e114",
   "metadata": {},
   "outputs": [],
   "source": []
  },
  {
   "cell_type": "markdown",
   "id": "6db7355a",
   "metadata": {},
   "source": [
    "e) **A distribuição do máximo, parte 2.** Escolha valores de $K$ correspondentes e faça histogramas e comente os resultados para os seguintes pares de $(m, n)$: $(100, 100)$, $(100, 300)$ $(200, 200)$, $(200, 600)$, $(500, 500)$, $(500, 1500)$, $(1000, 1000)$, $(1000, 3000)$."
   ]
  },
  {
   "cell_type": "code",
   "execution_count": null,
   "id": "7fc2f83e",
   "metadata": {},
   "outputs": [],
   "source": []
  }
 ],
 "metadata": {
  "kernelspec": {
   "display_name": "Python 3",
   "language": "python",
   "name": "python3"
  },
  "language_info": {
   "codemirror_mode": {
    "name": "ipython",
    "version": 3
   },
   "file_extension": ".py",
   "mimetype": "text/x-python",
   "name": "python",
   "nbconvert_exporter": "python",
   "pygments_lexer": "ipython3",
   "version": "3.11.9"
  }
 },
 "nbformat": 4,
 "nbformat_minor": 5
}
